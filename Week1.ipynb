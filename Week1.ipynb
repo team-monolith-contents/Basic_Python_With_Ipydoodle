{
 "cells": [
  {
   "cell_type": "markdown",
   "id": "f5c1c143-247d-488a-8a94-e00d25a2b312",
   "metadata": {
    "tags": []
   },
   "source": [
    "# 고등학생을 위한 Ipydoodle을 이용한 파이썬 프로그래밍 기초 (1 차시)"
   ]
  },
  {
   "cell_type": "markdown",
   "id": "38fd4974-9ae8-481e-aeac-4f89462fbdc9",
   "metadata": {},
   "source": [
    "학생을 위한 2D 시각화 라이브러리인 Ipydoodle과 파이썬을 이용해 파이썬의 기초를 함께 배워보도록 합시다."
   ]
  },
  {
   "cell_type": "markdown",
   "id": "ade83d40-4385-4c28-af9e-161fc686dfc8",
   "metadata": {},
   "source": [
    "---"
   ]
  },
  {
   "cell_type": "markdown",
   "id": "14149592-dae7-412f-aca4-dcb57e9577f8",
   "metadata": {
    "jp-MarkdownHeadingCollapsed": true,
    "tags": []
   },
   "source": [
    "## 임포트"
   ]
  },
  {
   "cell_type": "markdown",
   "id": "76ed6d01-02df-4a04-ad21-c27da3ea6a48",
   "metadata": {},
   "source": [
    "`Ipydoodle`은 2차원 평면에 물체를 만들고 조작할 수 있게 해주는 라이브러리입니다.\n",
    "\n",
    "`Ipydoodle`을 본격적으로 배우기에 앞서 `ipydoodle`을 사용하기 위해서는 해당 라이브러리를 임포트(import) 해야 합니다.\n",
    "\n",
    "임포트(import)는 한국어로 '수입하다, '가져오다' 라는 뜻을 가지고 있습니다.\n",
    "\n",
    "프로그래밍에서도 마찬가지로 다른 사람이 미리 만들어 놓은 프로그램들을 가지고 오는 것을 뜻합니다.\n",
    "\n",
    "파이썬에서 주로 사용하는 두 가지 임포트 방법에 대해서 알아보도록 하겠습니다.\n",
    "\n",
    "첫 번째 방법 :\n",
    "\n",
    "```python\n",
    "import 모듈\n",
    "```\n",
    "\n",
    "첫 번째 방법은 모듈 전체를 가지고 오는 방법입니다. 첫 번째 방법에서는 모듈 내의 요소들을 사용하기 위해서는 `모듈.요소` 의 방법을 사용해야 합니다.\n",
    "\n",
    "`ipydoodle`이 잘 임포트 되었는지 확인하기 위해서 물체를 만들 수 있는 `World`를 만들어 보도록 하겠습니다.\n",
    "\n",
    "```python\n",
    "import ipydoodle\n",
    "ipydoodle.World()\n",
    "```\n",
    "\n",
    "프로그램이 제대로 실행되면 아래와 같이 축이 그려진 `World`가 만들어 진 것을 확인할 수 있습니다.\n",
    "\n",
    "![FIG1-1](figs/fig_1_1.PNG)\n",
    "\n",
    "두 번째 방법 : \n",
    "\n",
    "```python\n",
    "from 모듈 import 이름\n",
    "```\n",
    "\n",
    "두 번째 방법은 모듈 내에서 필요한 것들을 가지고 오는 것입니다.\n",
    "\n",
    "이 방법을 사용하게 되면 모듈내에서 필요한 것들을 가지고 오고 `모듈.요소`의 방법을 사용하지 않고도 요소를 사용할 수 있습니다. \n",
    "\n",
    "```python\n",
    "from ipydoodle import World\n",
    "World()\n",
    "```\n",
    "\n",
    "> <i class=\"fa fa-info-circle\" aria-hidden=\"true\"></i> 정보:import 뒤에 \\*을 넣으면 모듈의 모든 요소를 가지고 올 수 있습니다.\n",
    "\n",
    "두 번째 방법에서도 `World`가 만들어 진 것을 확인할 수 있습니다."
   ]
  },
  {
   "cell_type": "code",
   "execution_count": 1,
   "id": "7b5c49c4-323c-46c6-86f1-bd3d96c79185",
   "metadata": {
    "tags": []
   },
   "outputs": [
    {
     "data": {
      "application/vnd.jupyter.widget-view+json": {
       "model_id": "44a009edef1e484f991147de9214e883",
       "version_major": 2,
       "version_minor": 0
      },
      "text/plain": [
       "Canvas()"
      ]
     },
     "metadata": {},
     "output_type": "display_data"
    },
    {
     "data": {
      "text/plain": [
       "<ipydoodle.ipydoodle.World at 0x7ff2e85a6f70>"
      ]
     },
     "execution_count": 1,
     "metadata": {},
     "output_type": "execute_result"
    }
   ],
   "source": [
    "# 실습 1 : ipydoodle을 임포트하고 World를 만들어봅시다.\n",
    "\n",
    "import ipydoodle\n",
    "ipydoodle.World()"
   ]
  },
  {
   "cell_type": "markdown",
   "id": "b800f202-49b1-4ebd-a61f-34ba71314fa2",
   "metadata": {},
   "source": [
    "---"
   ]
  },
  {
   "cell_type": "markdown",
   "id": "bf629ee4-43c0-402f-8afb-b1e8fa0d7806",
   "metadata": {
    "jp-MarkdownHeadingCollapsed": true,
    "tags": []
   },
   "source": [
    "## 주석"
   ]
  },
  {
   "cell_type": "markdown",
   "id": "3c096473-bc6e-4201-8e08-7d2234bfb449",
   "metadata": {},
   "source": [
    "파이썬에서는 코드내에서 코드에 대한 설명을 하기위해 `주석` 이라는 기능을 제공합니다.\n",
    "\n",
    "주석은 프로그램이 실행될 때 무시됩니다. 따라서 코드에 대한 설명을 작성하기에 적합합니다.\n",
    "\n",
    "주석은 `#` 기호를 사용해 만들수 있습니다.\n",
    "\n",
    "프로그램은 한 줄에서 `#` 이후에 오는 모든 코드를 주석으로 생각하고 무시합니다.\n",
    "\n",
    "주석의 사용예시는 다음과 같습니다.\n",
    "\n",
    "```python\n",
    "#설명입니다..\n",
    "print(\"안녕하세요\")\n",
    "```"
   ]
  },
  {
   "cell_type": "markdown",
   "id": "1e829e08-de83-4d89-9f81-106c3520f673",
   "metadata": {},
   "source": [
    "---"
   ]
  },
  {
   "cell_type": "markdown",
   "id": "6294bc5a-08c7-43a4-9d11-ed816e0b18d3",
   "metadata": {
    "tags": []
   },
   "source": [
    "## World"
   ]
  },
  {
   "cell_type": "markdown",
   "id": "60af5561-0d09-4852-97d5-3388479a9759",
   "metadata": {},
   "source": [
    "이제부터 본격적으로 `ipydoodle`을 배워볼 차례입니다. 가장 먼저 `World`에 대해 배워봅시다.\n",
    "\n",
    "자유롭게 물체를 만들고 움직일 수 있는 세상인 `World`는 `World()` 라는 명령어를 사용해 만들 수 있습니다.\n",
    "\n",
    "> **<i class=\"fa fa-exclamation-triangle\" aria-hidden=\"true\"></i> 주의:** 코드 실행시에 NameError가 발생한다면 ipydoodle 라이브러리를 임포트해주세요.\n",
    "\n",
    "World를 만들 때에는 여러가지 옵션을 줄 수 있습니다.\n",
    "\n",
    "가장 먼저 `World`의 크기를 아래의 코드로 바꿀 수 있습니다.\n",
    "\n",
    "```python\n",
    "World(width = 너비, height = 높이)\n",
    "```\n",
    "\n",
    "`width`는 `World`의 너비를, `height`는 `World`의 높이를 나타냅니다.\n",
    "\n",
    "다음은 `World`의 색깔입니다.\n",
    "\n",
    "`ipydoodle`에서는 색을 여러가지 방법으로 표현합니다.\n",
    "\n",
    "`ipydoodle`에서 한국어 색 이름, 영어이름, 색코드, RGB 벡터의 형식으로 색을 표현할 수 있습니다.\n",
    "\n",
    "아래의 표는 이름을 지원하는 색들의 목록이며 각각의 색 코드와 RGB 벡터의 값을 나타내고 있습니다.\n",
    "\n",
    "|색이름|영어이름|색코드|RGB|색상|\n",
    "|---------|---------|---------|---------|---------|\n",
    "|검정색|black|#000000|0,0,0|<span style=\"background-color:#000000\">　　　　　　　　</span>|\n",
    "|흰색|white|#FFFFFF|255,255,255|<span style=\"background-color:#FFFFFF\">　　　　　　　　</span>|\n",
    "|빨강색|red|#FF0000|255,0,0|<span style=\"background-color:#FF0000\">　　　　　　　　</span>|\n",
    "|연두색|lime|#00FF00|0,255,0|<span style=\"background-color:#00FF00\">　　　　　　　　</span>|\n",
    "|파란색|blue|#0000FF|0,0,255|<span style=\"background-color:#0000FF\">　　　　　　　　</span>|\n",
    "|노란색|yellow|#FFFF00|255,255,0|<span style=\"background-color:#FFFF00\">　　　　　　　　</span>|\n",
    "|옥색|cyan|#00FFFF|0,255,255|<span style=\"background-color:#00FFFF\">　　　　　　　　</span>|\n",
    "|분홍색|magenta|#FF00FF|255,0,255|<span style=\"background-color:#FF00FF\">　　　　　　　　</span>|\n",
    "|은색|silver|#CCCCCC|192,192,192|<span style=\"background-color:#CCCCCC\">　　　　　　　　</span>|\n",
    "|회색|gray|#808080|128,128,128|<span style=\"background-color:#808080\">　　　　　　　　</span>|\n",
    "|적갈색|maroon|#800000|128,0,0|<span style=\"background-color:#800000\">　　　　　　　　</span>|\n",
    "|올리브색|olive|#808000|128,128,0|<span style=\"background-color:#808000\">　　　　　　　　</span>|\n",
    "|초록색|green|#008000|0,128,0|<span style=\"background-color:#008000\">　　　　　　　　</span>|\n",
    "|보라색|purple|#800080|128,0,128|<span style=\"background-color:#800080\">　　　　　　　　</span>|\n",
    "|암청색|teal|#008080|0,128,128|<span style=\"background-color:#008080\">　　　　　　　　</span>|\n",
    "|남색|navy|#000080|0,0,128|<span style=\"background-color:#000080\">　　　　　　　　</span>|\n",
    "\n",
    "`World`의 색깔의 아래와 같은 코드로 설정할 수 있습니다.\n",
    "\n",
    "```python\n",
    "World(color = '검정색')  # 방법1\n",
    "World(color = 'white')   # 방법2\n",
    "World(color = '#FF0000') # 방법3\n",
    "World(color = [0,0,255]) # 방법4\n",
    "\n",
    "```\n",
    "\n",
    "RGB 벡터는 나중에 배울 리스트의 구조를 가지고 있습니다. 각각의 숫자는 앞에서 부터 색의 빨강색, 초록색, 파란색이 섞인 정도를 0~ 255 사이의 숫자로 나타냅니다.\n",
    "\n",
    "> **<i class=\"fa fa-exclamation-triangle\" aria-hidden=\"true\"></i> 주의:** 위의 표에 존재하는 않는 색의 이름을 넣으면 오류가 발생합니다.\n",
    "\n",
    "> <i class=\"fa fa-info-circle\" aria-hidden=\"true\"></i> 정보:각각의 옵션 값을 설정해 주지 않으면 기본으로 각각 설정된 값을 가진 World가 만들어집니다.\n",
    "\n",
    "<br>\n",
    "\n",
    "**예시)**\n",
    "```python\n",
    "from ipydoodle import World\n",
    "World(width =500, height = 100, color = '빨강색')\n",
    "```\n",
    "\n",
    "![FIG1-2](figs/fig_1_2.PNG)"
   ]
  },
  {
   "cell_type": "code",
   "execution_count": 1,
   "id": "75664a67-f0d5-41f7-9da9-865464f8788c",
   "metadata": {},
   "outputs": [
    {
     "name": "stdout",
     "output_type": "stream",
     "text": [
      "[0, 0, 255]\n"
     ]
    },
    {
     "data": {
      "application/vnd.jupyter.widget-view+json": {
       "model_id": "903c3985a9f0464ea6f526c91d27ed6e",
       "version_major": 2,
       "version_minor": 0
      },
      "text/plain": [
       "Canvas(width=500)"
      ]
     },
     "metadata": {},
     "output_type": "display_data"
    },
    {
     "data": {
      "text/plain": [
       "<ipydoodle.ipydoodle.World at 0x7fc1970f9970>"
      ]
     },
     "execution_count": 1,
     "metadata": {},
     "output_type": "execute_result"
    }
   ],
   "source": [
    "# 실습 2 : 가로가 500, 세로가 500의 길이를 가지고 노란색 배경을 가지는 World를 만들어 봅시다.\n",
    "\n",
    "from ipydoodle import World\n",
    "World(width = 500, height = 500, color = '파란색')"
   ]
  },
  {
   "cell_type": "markdown",
   "id": "a0987721-77d7-4492-a382-d986b8508e22",
   "metadata": {},
   "source": [
    "---"
   ]
  },
  {
   "cell_type": "markdown",
   "id": "37c8d452-e458-4d50-aa83-557f66f64f93",
   "metadata": {
    "tags": []
   },
   "source": [
    "## 변수"
   ]
  },
  {
   "cell_type": "markdown",
   "id": "13140f3a-d8bb-4bee-a956-e5e64251fef9",
   "metadata": {},
   "source": [
    "컴퓨터에 입력되거나 생성하는 값들을 담는 그릇이 바로 변수입니다.\n",
    "\n",
    "변수는 컴퓨터의 메모리에 만들어집니다.\n",
    "\n",
    "프로그램을 동작시키기 위해서는 여러개의 변수를 적절히 사용하여야 합니다.\n",
    "\n",
    "적절한 상황과 시점에 변수를 저장하고 저장해 놓은 변수를 사용하는 연습이 필요합니다.\n",
    "\n",
    "```python\n",
    "변수이름 = 변수에-넣고-싶은-값\n",
    "```\n",
    "\n",
    "변수는 변수에 값을 넣는 것으로 만들 수 있습니다.\n",
    "\n",
    "이 때, 변수의 이름은 항상 등호의 좌측에 있어야 하고 변수에 넣고 싶은 값은 항상 등호의 우측에 있어야 합니다.\n",
    "\n",
    "> **<i class=\"fa fa-exclamation-triangle\" aria-hidden=\"true\"></i> 주의:** 변수의 이름을 ''(작은 따옴표)나 \"\"(큰 따옴표)로 감싸거나, 변수의 이름을 등호의 오른쪽에 배치하면 오류가 발생합니다!!\n",
    "\n",
    "변수에 넣을 수 있는 값은 여러가지가 있습니다.\n",
    "\n",
    "하지만 이번에는 가장 자주 사용하는 3 종류의 변수에 대해서 알아보도록 하겠습니다.\n",
    "\n",
    "|변수이름|영어이름|설명|예시|\n",
    "|---------|---------|---------|---------|\n",
    "|정수|int|우리가 흔히 사용하는 정수 값으로 숫자로 값을 표현합니다.|-10, 5, 0, 300|\n",
    "|소수|float|우리가 흔히 사용하는 소수 값으로 숫자.숫자의 방법으로 값을 표현합니다.|-3.2, 5.0, 9.7, 123.45|\n",
    "|문자열|str|연속된 문자들로 항상 ''(작은따옴표) 혹은 \"\"(큰따옴표)로 감싸서 표현합니다.|'abc', '가나다', '문자열'|\n",
    "\n",
    "> <i class=\"fa fa-info-circle\" aria-hidden=\"true\"></i> 정보:위에서 설명한 3 종류 이외에도, World(), 앞으로 배울 Box() 등의 물체, 리스트 등등 변수에 저장할 수 있는 것은 아주 다양합니다.\n",
    "\n",
    "위의 방법으로 저장한 변수는 나중에 다시 꺼내올 수 있습니다.\n",
    "\n",
    "저장한 변수를 다시 꺼내오기 위해서는 해당 변수의 값이 필요한 부분에서 값 대신에 변수의 이름을 적어주면 됩니다.\n",
    "\n",
    "아래의 예시를 보면, width, height, color에 값을 넣어주는 대신, 변수에 저장된 값을 사용한 것을 볼 수 있습니다!\n",
    "\n",
    "**예시**\n",
    "```python\n",
    "from ipydoodle import World\n",
    "\n",
    "my_width = 100\n",
    "my_height = 255.5\n",
    "my_color = '파란색'\n",
    "World(width = my_width, height = my_height, color = my_color)\n",
    "```\n",
    "\n",
    "![FIG1-6](figs/fig_1_6.PNG)\n",
    "\n",
    "> **<i class=\"fa fa-exclamation-triangle\" aria-hidden=\"true\"></i> 주의:** 모든 이름을 변수의 이름으로 사용할 수 있는 것은 아닙니다. 이미 존재하는 이름은 사용해서는 안됩니다. 예를들어 World()라는 이름을 가진 변수를 만들게 되면 World() 함수를 사용할 수 없습니다!!\n",
    "\n",
    "`ipydoodle`의 `World`는 너비, 높이, 색 속성을 변수로 보관하고 있습니다.\n",
    "\n",
    "`World`에 포함된 변수를 사용하기 위해서는 `변수이름.속성이름`의 방법을 사용하면 됩니다.\n",
    "\n",
    "아래 예시의 `print()` 함수는 아래에서 배울 출력함수입니다.\n",
    "\n",
    "**예시**\n",
    "```python\n",
    "from ipydoodle import World\n",
    "\n",
    "world = World(width = 100, height = 100, color = '파란색')\n",
    "print(world.width) # 값을 출력해주는 함수\n",
    "\n",
    "```\n",
    "\n",
    "![FIG1-7](figs/fig_1_7.PNG)"
   ]
  },
  {
   "cell_type": "code",
   "execution_count": 16,
   "id": "069af27f-2af6-4a1b-9934-5dfb80b6e497",
   "metadata": {},
   "outputs": [
    {
     "data": {
      "application/vnd.jupyter.widget-view+json": {
       "model_id": "680caddfb8eb4ace837e32fd17c6b123",
       "version_major": 2,
       "version_minor": 0
      },
      "text/plain": [
       "Canvas(width=500)"
      ]
     },
     "metadata": {},
     "output_type": "display_data"
    }
   ],
   "source": [
    "# 실습 3 : World에 저장된 변수를 바꾸어 World의 색을 바꿔봅시다.\n",
    "from ipydoodle import World\n",
    "world = World(width = 500, height = 500, color = '파란색')\n",
    "\n",
    "### 여기에 코드를 작성해주세요\n",
    "world.color = '노란색'\n",
    "###"
   ]
  },
  {
   "cell_type": "markdown",
   "id": "8447d1a3-e0e0-405a-a609-0830d36b8e08",
   "metadata": {},
   "source": [
    "---"
   ]
  },
  {
   "cell_type": "markdown",
   "id": "dacdeade-0d78-4b7c-9688-4e04c39a5d5b",
   "metadata": {
    "tags": []
   },
   "source": [
    "## 출력"
   ]
  },
  {
   "cell_type": "markdown",
   "id": "acbdb8fb-5660-448e-8f98-5de7b829a3b3",
   "metadata": {},
   "source": [
    "파이썬에서는 특정 값을 화면에 출력할 수 있습니다.\n",
    "\n",
    "화면에 값을 출력하기 위해서는 `print()` 함수를 사용할 수 있습니다.\n",
    "\n",
    "`print()` 함수의 사용 예시는 다음과 같습니다.\n",
    "\n",
    "```python\n",
    "A = '문구'\n",
    "print('화면에 출력하고 싶은 문구')\n",
    "print(A)\n",
    "print(3)\n",
    "```\n",
    "\n",
    "`print()` 함수는 변수안에 저장되어 있는 값, 문자열, 숫자 등을 출력할 수 있습니다.\n",
    "\n",
    "화면에 여러개의 문구를 한 줄에 출력하고 싶으면 출력하고 싶은 문구들을 ,(반점)으로 구분해 주면 됩니다.\n",
    "\n",
    "```python\n",
    "A = 3\n",
    "B = '문구'\n",
    "print('화면에 출력하고 싶은 문구', A, B, 3)\n",
    "```\n",
    "\n",
    "\n",
    "**예제**\n",
    "```python\n",
    "from ipydoodle import World\n",
    "world = World()\n",
    "print('World의  색은', world.color, '입니다!!')\n",
    "```\n",
    "\n",
    "![FIG1-5](figs/fig_1_5.PNG)"
   ]
  },
  {
   "cell_type": "code",
   "execution_count": 6,
   "id": "a3dd391d-b3aa-4efd-952d-977e63ca9402",
   "metadata": {},
   "outputs": [
    {
     "data": {
      "application/vnd.jupyter.widget-view+json": {
       "model_id": "01bbb745c4e4493793595b04f11f940a",
       "version_major": 2,
       "version_minor": 0
      },
      "text/plain": [
       "Canvas()"
      ]
     },
     "metadata": {},
     "output_type": "display_data"
    },
    {
     "name": "stdout",
     "output_type": "stream",
     "text": [
      "가로: 700\n",
      "세로: 500\n"
     ]
    }
   ],
   "source": [
    "# 실습 4 : World의 가로와 세로 길이를 출력해봅시다.\n",
    "\n",
    "from ipydoodle import World\n",
    "world = World()\n",
    "print('가로:', world.width)\n",
    "print('세로:', world.height)"
   ]
  },
  {
   "cell_type": "markdown",
   "id": "faabd925-0d19-4d58-a102-cefd2e4bccc6",
   "metadata": {},
   "source": [
    "---"
   ]
  },
  {
   "cell_type": "markdown",
   "id": "24003261-36e3-40b1-910e-bcdf86387bfb",
   "metadata": {
    "tags": []
   },
   "source": [
    "## 입력"
   ]
  },
  {
   "cell_type": "markdown",
   "id": "07fd843d-40b3-4740-aeea-85386ca12fd8",
   "metadata": {},
   "source": [
    "파이썬에서는 키보드를 이용해 값을 입력할 수 있습니다.\n",
    "\n",
    "키보드로 값을 입력받기 위해서는 `input()` 함수를 사용할 수 있습니다.\n",
    "\n",
    "`input()` 함수의 사용 예시는 다음과 같습니다.\n",
    "\n",
    "```python\n",
    "input('화면에 띄워줄 문구')\n",
    "```\n",
    "\n",
    "`input()` 함수를 사용하면, 프로그램이 `input()` 함수가 **화면에 띄워줄 문구**를 보여주고 사용된 줄에서 멈춥니다.\n",
    "\n",
    "이후 사용자의 키보드 입력을 기다립니다.\n",
    "\n",
    "**예시)**\n",
    "```python\n",
    "# 배경색을 입력받습니다.\n",
    "from ipydoodle import World\n",
    "color = input('배경색을 입력해주세요.')\n",
    "World(color = color)\n",
    "```\n",
    "\n",
    "<실행 후 입력을 기다리는 모습>\n",
    "\n",
    "![FIG1-3](figs/fig_1_3.PNG)\n",
    "\n",
    "<cyan을 입력한 후>\n",
    "\n",
    "![FIG1-4](figs/fig_1_4.PNG)\n",
    "\n",
    "> **<i class=\"fa fa-exclamation-triangle\" aria-hidden=\"true\"></i> 주의:** 정수를 입력받아 사용하고 싶으면 `int(input('화면에 띄워줄 문구'))` 의 방법을 사용해야 합니다"
   ]
  },
  {
   "cell_type": "code",
   "execution_count": 2,
   "id": "6ce1cff4-dbe4-43f2-981a-76019af117a5",
   "metadata": {},
   "outputs": [
    {
     "name": "stdin",
     "output_type": "stream",
     "text": [
      "너비를 입력해주세요. 100\n",
      "높이를 입력해주세요. 200\n",
      "색을 입력해주세요. 회색\n"
     ]
    },
    {
     "data": {
      "application/vnd.jupyter.widget-view+json": {
       "model_id": "7d311d3f4f0442e7935c2b7eb25b8348",
       "version_major": 2,
       "version_minor": 0
      },
      "text/plain": [
       "Canvas(height=200, width=100)"
      ]
     },
     "metadata": {},
     "output_type": "display_data"
    },
    {
     "data": {
      "text/plain": [
       "<ipydoodle.ipydoodle.World at 0x7fb2403c2340>"
      ]
     },
     "execution_count": 2,
     "metadata": {},
     "output_type": "execute_result"
    }
   ],
   "source": [
    "# 실습 5 : 가로, 세로, 색을 입력받아 자신만의 World를 만들어봅시다.\n",
    "\n",
    "from ipydoodle import World\n",
    "width = int(input('너비를 입력해주세요.'))\n",
    "height = int(input('높이를 입력해주세요.'))\n",
    "color = input('색을 입력해주세요.')\n",
    "World(width = width, height = height, color = color)"
   ]
  },
  {
   "cell_type": "markdown",
   "id": "92e3fa95-d22b-4915-8acd-b1efa9f0bbc7",
   "metadata": {},
   "source": [
    "---"
   ]
  }
 ],
 "metadata": {
  "kernelspec": {
   "display_name": "Python 3 (ipykernel)",
   "language": "python",
   "name": "python3"
  },
  "language_info": {
   "codemirror_mode": {
    "name": "ipython",
    "version": 3
   },
   "file_extension": ".py",
   "mimetype": "text/x-python",
   "name": "python",
   "nbconvert_exporter": "python",
   "pygments_lexer": "ipython3",
   "version": "3.8.10"
  }
 },
 "nbformat": 4,
 "nbformat_minor": 5
}
